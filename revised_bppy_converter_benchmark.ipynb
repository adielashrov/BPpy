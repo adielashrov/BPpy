{
  "nbformat": 4,
  "nbformat_minor": 0,
  "metadata": {
    "colab": {
      "provenance": [],
      "authorship_tag": "ABX9TyOKuhmcBtR39HhIhS5lAZWL",
      "include_colab_link": true
    },
    "kernelspec": {
      "name": "python3",
      "display_name": "Python 3"
    },
    "language_info": {
      "name": "python"
    }
  },
  "cells": [
    {
      "cell_type": "markdown",
      "metadata": {
        "id": "view-in-github",
        "colab_type": "text"
      },
      "source": [
        "<a href=\"https://colab.research.google.com/github/zisserj/BPpy/blob/experimental/revised_bppy_converter_benchmark.ipynb\" target=\"_parent\"><img src=\"https://colab.research.google.com/assets/colab-badge.svg\" alt=\"Open In Colab\"/></a>"
      ]
    },
    {
      "cell_type": "code",
      "source": [
        "# obtain prism\n",
        "%%bash\n",
        "rm -r ./*\n",
        "wget -q https://www.prismmodelchecker.org/dl/prism-4.8-linux64-x86.tar.gz\n",
        "gunzip prism-4.8-linux64-x86.tar.gz\n",
        "tar -xf prism-4.8-linux64-x86.tar\n",
        "cd prism-4.8-linux64-x86\n",
        "./install.sh\n",
        "bin/prism\n",
        "ln -s prism-4.8-linux64-x86/bin/prism ../."
      ],
      "metadata": {
        "colab": {
          "base_uri": "https://localhost:8080/"
        },
        "id": "kWItQd3k1PjI",
        "outputId": "35618407-d04e-4a58-d07f-56c4f5281a77"
      },
      "execution_count": null,
      "outputs": [
        {
          "output_type": "stream",
          "name": "stdout",
          "text": [
            "Installing PRISM (directory=/content/prism-4.8-linux64-x86)\n",
            "Setting path in startup script /content/prism-4.8-linux64-x86/bin/prism...\n",
            "Setting path in startup script /content/prism-4.8-linux64-x86/bin/xprism...\n",
            "Installation complete.\n",
            "PRISM\n",
            "=====\n",
            "\n",
            "Version: 4.8\n",
            "Date: Sun Jan 07 22:22:38 UTC 2024\n",
            "Hostname: d2bb77962d1b\n",
            "Memory limits: cudd=1g, java(heap)=1g\n",
            "Command line: prism\n",
            "Usage: prism [options] <model-file> [<properties-file>] [more-options]\n",
            "\n",
            "For more information, type: prism -help\n"
          ]
        }
      ]
    },
    {
      "cell_type": "code",
      "execution_count": null,
      "metadata": {
        "id": "Y9SkGxz8MToU",
        "colab": {
          "base_uri": "https://localhost:8080/"
        },
        "outputId": "8fb1b6a1-ac56-46b6-b9c6-cb5a8f1cea82"
      },
      "outputs": [
        {
          "output_type": "stream",
          "name": "stdout",
          "text": [
            "Processing ./BPpy-experimental\n",
            "  Preparing metadata (setup.py): started\n",
            "  Preparing metadata (setup.py): finished with status 'done'\n",
            "Collecting z3-solver>=4.8.5.0 (from bppy==1.0.0)\n",
            "  Downloading z3_solver-4.12.4.0-py2.py3-none-manylinux2014_x86_64.whl (56.7 MB)\n",
            "     ━━━━━━━━━━━━━━━━━━━━━━━━━━━━━━━━━━━━━━━━ 56.7/56.7 MB 8.4 MB/s eta 0:00:00\n",
            "Building wheels for collected packages: bppy\n",
            "  Building wheel for bppy (setup.py): started\n",
            "  Building wheel for bppy (setup.py): finished with status 'done'\n",
            "  Created wheel for bppy: filename=bppy-1.0.0-py3-none-any.whl size=31856 sha256=aa6c6655b33d1b82995094cd3cd783632e7433442ff3168b67fb450514336cbf\n",
            "  Stored in directory: /root/.cache/pip/wheels/97/b7/71/9ca2eb6cb10fbeb2584fb32fef1aa1875cc685242dcc2f6862\n",
            "Successfully built bppy\n",
            "Installing collected packages: z3-solver, bppy\n",
            "Successfully installed bppy-1.0.0 z3-solver-4.12.4.0\n"
          ]
        }
      ],
      "source": [
        "#install bppy\n",
        "%%bash\n",
        "wget -q https://github.com/zisserj/BPpy/archive/experimental.zip\n",
        "unzip -q experimental.zip\n",
        "pip install BPpy-experimental/."
      ]
    },
    {
      "cell_type": "code",
      "source": [
        "import bppy as bp\n",
        "from bppy.model.sync_statement import *\n",
        "from bppy.model.b_thread import *\n",
        "from bppy.analysis.bprogram_converter import BProgramConverter\n",
        "from bppy.utils.dfs import DFSBProgram\n",
        "import itertools"
      ],
      "metadata": {
        "id": "fHZhnkDI8gXE"
      },
      "execution_count": null,
      "outputs": []
    },
    {
      "cell_type": "code",
      "source": [
        "class EvaluatorListener(bp.PrintBProgramRunnerListener):\n",
        "    def starting(self, b_program):\n",
        "        self.events = []\n",
        "    def ended(self, b_program):\n",
        "        pass\n",
        "    def event_selected(self, b_program, event):\n",
        "        self.events.append(event.name)\n",
        "        if len(self.events) == 20:\n",
        "            raise TimeoutError()"
      ],
      "metadata": {
        "id": "BoRWtFOk7I7T"
      },
      "execution_count": null,
      "outputs": []
    },
    {
      "cell_type": "code",
      "source": [
        "def generate_model(DOORS_NUM=3, PRIZES_NUM=1, DOORS_OPENED_NUM=1,\n",
        "                   mode=bp.execution_thread):\n",
        "    if PRIZES_NUM + DOORS_OPENED_NUM >= DOORS_NUM:\n",
        "        return \"Invalid parameters\"\n",
        "    doors = [x for x in range(DOORS_NUM)]\n",
        "    @mode\n",
        "    def game_show(doors_num, prizes_num, doors_opened_num):\n",
        "        prizes = yield choice({i: 1 / len(doors) for i in doors},\n",
        "                             repeat=prizes_num, replace=False,sorted=True)\n",
        "        if prizes_num == 1:\n",
        "            prizes = (prizes,)\n",
        "        for hide in prizes:\n",
        "            yield sync(request=bp.BEvent(f'hide{hide}'))\n",
        "        yield sync(request=bp.BEvent('done_hiding'))\n",
        "        guess = yield sync(waitFor=[bp.BEvent(f'guess{i}') for i in doors])\n",
        "        possible_opens = [d for d in doors if d not in list(prizes) + [int(guess.name[5:])]]\n",
        "        dicts = {door: 1 / len(possible_opens) for door in possible_opens}\n",
        "        doors_opened = yield choice(dicts, repeat=doors_opened_num,\n",
        "                            replace=False, sorted=True)\n",
        "        if doors_opened_num == 1:\n",
        "            doors_opened = [doors_opened]\n",
        "        for opened in doors_opened:\n",
        "            yield sync(request=bp.BEvent(f'open{opened}'))\n",
        "        yield sync(request=bp.BEvent('done_opening'))\n",
        "\n",
        "    @mode\n",
        "    def contestant(doors_num, doors_opened_num):\n",
        "        yield sync(waitFor=bp.BEvent('done_hiding'))\n",
        "        guess = yield choice({i: 1 / len(doors) for i in doors})\n",
        "        yield sync(request=bp.BEvent(f'guess{guess}'))\n",
        "        #alt starts here\n",
        "        doors_opened = []\n",
        "        all_doors = [bp.BEvent(f'open{o}') for o in doors]\n",
        "        for i in range(doors_opened_num):\n",
        "            d = yield sync(waitFor=all_doors)\n",
        "            doors_opened.append(int(d.name[4:]))\n",
        "        swap_options = [d for d in doors if d not in doors_opened + [guess]]\n",
        "        yield sync(waitFor=bp.BEvent('done_opening'))\n",
        "        swaps = [bp.BEvent(f'swap{d}') for d in swap_options]\n",
        "        swap = yield choice({i: 1/len(swaps) for i in swaps})\n",
        "        yield sync(request=swap)\n",
        "        '''\n",
        "        yield sync(waitFor=bp.BEvent('done_opening'))\n",
        "        swap_options = [d for d in doors if d != guess]\n",
        "        swaps = [bp.BEvent(f'swap{d}') for d in swap_options]\n",
        "        yield sync(request=swaps)\n",
        "        '''\n",
        "\n",
        "    @mode\n",
        "    def block_opened_doors(doors_num, doors_opened_num):\n",
        "        doors_opened = []\n",
        "        all_doors = [bp.BEvent(f'open{o}') for o in doors]\n",
        "        for i in range(doors_opened_num):\n",
        "            d = yield sync(waitFor=all_doors)\n",
        "            doors_opened.append(d.name[4:])\n",
        "        swap_nonoptions = [bp.BEvent(f'swap{d}') for d in doors_opened]\n",
        "        yield sync(block=swap_nonoptions)\n",
        "\n",
        "    bp_gen = lambda: bp.BProgram(bthreads=[game_show(DOORS_NUM, PRIZES_NUM, DOORS_OPENED_NUM),\n",
        "                                           contestant(DOORS_NUM, DOORS_OPENED_NUM)],\n",
        "                                           #block_opened_doors(DOORS_NUM, DOORS_OPENED_NUM)],\n",
        "                             event_selection_strategy=bp.SimpleEventSelectionStrategy(),\n",
        "                             listener=EvaluatorListener())\n",
        "    event_list = ([bp.BEvent('done_hiding')] +[bp.BEvent('done_opening')] +\n",
        "                  [bp.BEvent(f'{action}{i}') for action, i in itertools.product(['hide', 'guess', 'open', 'swap'], doors)])\n",
        "    return bp_gen, event_list"
      ],
      "metadata": {
        "id": "Kjjvz7qShKPw"
      },
      "execution_count": null,
      "outputs": []
    },
    {
      "cell_type": "code",
      "source": [
        "# sanity check\n",
        "bp_gen, event_list = generate_model(mode=bp.execution_thread, DOORS_NUM=4,\n",
        "                                    DOORS_OPENED_NUM=2, PRIZES_NUM=1)\n",
        "model = bp_gen()\n",
        "model.run()\n",
        "print(model.listener.events)"
      ],
      "metadata": {
        "colab": {
          "base_uri": "https://localhost:8080/"
        },
        "id": "rQPWaSeyfpH5",
        "outputId": "4eb2e26a-f5ca-4b88-b4bd-1a521c4c9f5f"
      },
      "execution_count": null,
      "outputs": [
        {
          "output_type": "stream",
          "name": "stdout",
          "text": [
            "['hide0', 'done_hiding', 'guess0', 'open1', 'open3', 'done_opening', 'swap2']\n"
          ]
        }
      ]
    },
    {
      "cell_type": "code",
      "source": [
        "from bppy.utils.dfs import Node"
      ],
      "metadata": {
        "id": "uglj1gFT4M2j"
      },
      "execution_count": null,
      "outputs": []
    },
    {
      "cell_type": "code",
      "source": [
        "a = Node(tuple(), sync(request=bp.BEvent('hi')))\n",
        "a"
      ],
      "metadata": {
        "colab": {
          "base_uri": "https://localhost:8080/"
        },
        "id": "hLhJnD-p5bBa",
        "outputId": "bdde2a89-a20e-4bad-cc34-158e404bacfa"
      },
      "execution_count": null,
      "outputs": [
        {
          "output_type": "execute_result",
          "data": {
            "text/plain": [
              "(){'request': BEvent(name=hi,data={})}"
            ]
          },
          "metadata": {},
          "execution_count": 8
        }
      ]
    },
    {
      "cell_type": "code",
      "source": [
        "for i in range(3, 4):\n",
        "    bp_gen, event_list = generate_model(mode=bp.analysis_thread, DOORS_NUM=i,\n",
        "                                        DOORS_OPENED_NUM=1, PRIZES_NUM=1)\n",
        "    dfs = DFSBProgram(bp_gen, event_list)\n",
        "    init, mapper = dfs.run(explore_graph=False)\n",
        "    print(f'd={i}, statessum={sum([len(bt) for bt in mapper.values()])}')"
      ],
      "metadata": {
        "id": "CVV-8XTfLO0y",
        "colab": {
          "base_uri": "https://localhost:8080/"
        },
        "outputId": "2c21c5ee-d62b-4f9b-d07b-769ec35b28f9"
      },
      "execution_count": null,
      "outputs": [
        {
          "output_type": "stream",
          "name": "stdout",
          "text": [
            "d=3, statessum=83\n"
          ]
        }
      ]
    },
    {
      "cell_type": "markdown",
      "source": [
        "# Sampling evaluation"
      ],
      "metadata": {
        "id": "JEDGJL4TAXSP"
      }
    },
    {
      "cell_type": "code",
      "source": [
        "import numpy as np\n",
        "import matplotlib.pyplot as plt\n",
        "from time import perf_counter_ns"
      ],
      "metadata": {
        "id": "nEZNYW14KMTo"
      },
      "execution_count": null,
      "outputs": []
    },
    {
      "cell_type": "code",
      "source": [
        "def q_params(min_doors=3,max_doors=10):\n",
        "    combs = []\n",
        "    for d in range(min_doors, max_doors+1):\n",
        "        for p in range(1, d):\n",
        "            for o in range(1, d-p):\n",
        "                combs.append((d,p,o))\n",
        "    return combs\n",
        "combs = q_params()"
      ],
      "metadata": {
        "id": "fZhdZU4TZfen"
      },
      "execution_count": null,
      "outputs": []
    },
    {
      "cell_type": "code",
      "source": [
        "def sample_comb(dpo=(3,1,1), gen_function=generate_model, max_run=10000):\n",
        "    d,p,o = dpo\n",
        "    bp_gen, _ = gen_function(d, p, o, mode=bp.execution_thread)\n",
        "    hist = []\n",
        "    times = []\n",
        "    std = []\n",
        "    start_time = perf_counter_ns()\n",
        "    for i in range(max_run):\n",
        "        model = bp_gen()\n",
        "        model.run()\n",
        "        res = model.listener.events\n",
        "        prizes = [d[4:] for d in res[:p]]\n",
        "        hist.append(int(res[-1][4:] in prizes))\n",
        "        times.append(perf_counter_ns()-start_time)\n",
        "    return(hist, times)"
      ],
      "metadata": {
        "id": "X88cTroryk8G"
      },
      "execution_count": null,
      "outputs": []
    },
    {
      "cell_type": "code",
      "source": [
        "#results = {sample_comb(run) fo}\n",
        "hist, times = sample_comb((10,2,6))"
      ],
      "metadata": {
        "id": "dkanFcWgJ7xo"
      },
      "execution_count": null,
      "outputs": []
    },
    {
      "cell_type": "code",
      "source": [
        "avg = np.array([np.mean(hist[0:i]) for i in range(1,len(hist))])\n",
        "std = np.array([np.std(avg[0:i]) for i in range(len(avg))])"
      ],
      "metadata": {
        "id": "x9bxaH94Om8v",
        "colab": {
          "base_uri": "https://localhost:8080/"
        },
        "outputId": "ebab298e-17c4-4821-dc5d-d5dc1d6753ce"
      },
      "execution_count": null,
      "outputs": [
        {
          "output_type": "stream",
          "name": "stderr",
          "text": [
            "/usr/local/lib/python3.10/dist-packages/numpy/core/_methods.py:265: RuntimeWarning: Degrees of freedom <= 0 for slice\n",
            "  ret = _var(a, axis=axis, dtype=dtype, out=out, ddof=ddof,\n",
            "/usr/local/lib/python3.10/dist-packages/numpy/core/_methods.py:223: RuntimeWarning: invalid value encountered in divide\n",
            "  arrmean = um.true_divide(arrmean, div, out=arrmean, casting='unsafe',\n",
            "/usr/local/lib/python3.10/dist-packages/numpy/core/_methods.py:257: RuntimeWarning: invalid value encountered in double_scalars\n",
            "  ret = ret.dtype.type(ret / rcount)\n"
          ]
        }
      ]
    },
    {
      "cell_type": "code",
      "source": [
        "avg[-1]"
      ],
      "metadata": {
        "colab": {
          "base_uri": "https://localhost:8080/"
        },
        "id": "QbYdVHQmRb09",
        "outputId": "a9dfc0b7-b270-4902-d947-a73020ccb157"
      },
      "execution_count": null,
      "outputs": [
        {
          "output_type": "execute_result",
          "data": {
            "text/plain": [
              "0.596959695969597"
            ]
          },
          "metadata": {},
          "execution_count": 15
        }
      ]
    },
    {
      "cell_type": "code",
      "source": [
        "plt.plot(times[1:], avg)\n",
        "plt.plot(times[1:], avg+std)\n",
        "plt.plot(times[1:], avg-std)"
      ],
      "metadata": {
        "colab": {
          "base_uri": "https://localhost:8080/",
          "height": 465
        },
        "id": "rWsC7LPHLZdV",
        "outputId": "569520d3-b97e-4a61-a70e-6da734230536"
      },
      "execution_count": null,
      "outputs": [
        {
          "output_type": "execute_result",
          "data": {
            "text/plain": [
              "[<matplotlib.lines.Line2D at 0x7c8198707760>]"
            ]
          },
          "metadata": {},
          "execution_count": 16
        },
        {
          "output_type": "display_data",
          "data": {
            "text/plain": [
              "<Figure size 640x480 with 1 Axes>"
            ],
            "image/png": "[encoded data removed]"
          },
          "metadata": {}
        }
      ]
    },
    {
      "cell_type": "markdown",
      "source": [
        "# Translation evaluation"
      ],
      "metadata": {
        "id": "6DTPoOziCQRZ"
      }
    },
    {
      "cell_type": "code",
      "source": [
        "bp_gen, event_list = generate_model(DOORS_NUM=10,\n",
        "                                    PRIZES_NUM=1,\n",
        "                                    DOORS_OPENED_NUM=1,\n",
        "                                    mode=bp.analysis_thread)\n",
        "event_nums = {e.name: i for i, e in enumerate(event_list)}\n",
        "conv = BProgramConverter(bp_gen, event_list)\n",
        "output = conv.to_prism('monty.prism')\n",
        "\n",
        "swap_wins = [(event_nums[f'hide{i}'], event_nums[f'swap{i}']) for i in range(4)]\n",
        "prop_swap = \" | \".join([f'((F event={h}) & (F event={s}))' for h, s in swap_wins])\n",
        "prop_swap\n",
        "with open(\"prop.csl\", 'w+') as f:\n",
        "    f.write(f\"filter(print, Pmax=? [{prop_swap}])\")"
      ],
      "metadata": {
        "id": "e7iBH0peimu6"
      },
      "execution_count": null,
      "outputs": []
    },
    {
      "cell_type": "code",
      "source": [
        "!cat prop.csl"
      ],
      "metadata": {
        "id": "w5m1fbDzTmGD"
      },
      "execution_count": null,
      "outputs": []
    },
    {
      "cell_type": "code",
      "source": [
        "!./prism --help"
      ],
      "metadata": {
        "id": "C8sjvvvIUkr7"
      },
      "execution_count": null,
      "outputs": []
    },
    {
      "cell_type": "code",
      "source": [
        "!./prism monty.prism prop.csl -cuddmaxmem 3g -javamaxmem 4g -javastack 500m -nodasimplify"
      ],
      "metadata": {
        "id": "fY6IjoNVWuhk"
      },
      "execution_count": null,
      "outputs": []
    },
    {
      "cell_type": "code",
      "source": [
        "!./prism monty.prism -simpath '12,probs=true' stdout"
      ],
      "metadata": {
        "id": "-TNlIrLxLhMe"
      },
      "execution_count": null,
      "outputs": []
    },
    {
      "cell_type": "code",
      "source": [
        "!cat monty.prism"
      ],
      "metadata": {
        "id": "dlq1a33BIGcc"
      },
      "execution_count": null,
      "outputs": []
    },
    {
      "cell_type": "code",
      "source": [
        "a == b"
      ],
      "metadata": {
        "id": "IKzwKRHDIIeE"
      },
      "execution_count": null,
      "outputs": []
    }
  ]
}